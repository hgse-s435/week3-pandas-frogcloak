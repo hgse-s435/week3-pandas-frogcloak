{
 "cells": [
  {
   "cell_type": "markdown",
   "metadata": {},
   "source": [
    "# Logistics"
   ]
  },
  {
   "cell_type": "markdown",
   "metadata": {},
   "source": [
    "* If you feel lost while working on this notebook (in class or outside or class), don't hesitate to post questions here: https://piazza.com/class/jrzeap5kpirw"
   ]
  },
  {
   "cell_type": "markdown",
   "metadata": {
    "ExecuteTime": {
     "end_time": "2019-02-11T14:46:03.631443Z",
     "start_time": "2019-02-11T14:46:03.134999Z"
    }
   },
   "source": [
    "# Description of the dataset"
   ]
  },
  {
   "cell_type": "markdown",
   "metadata": {},
   "source": [
    "The file \"Bertrand-physiodata.csv\" was captured using the Empatica E4 wristband when Bertrand was teaching a class last Fall. The E4 collects information about a person's heart rate, electrodermal actibity, movements and temperature:\n",
    "\n",
    "![title](https://support.empatica.com/hc/article_attachments/360000797783/e4_specs.jpg)"
   ]
  },
  {
   "cell_type": "markdown",
   "metadata": {},
   "source": [
    "the csv file contains the following columns:\n",
    "* **tags**: users can tag events by pressing a button on the wristband\n",
    "* **real time**: time of the data collection\n",
    "* **unix time**: number of seconds since 00:00:00 Thursday, 1 January 1970\n",
    "* **BVP**: Blood volume pressure (used to compute HR data)\n",
    "* **HR**: Heart rate data\n",
    "* **EDA**: Electrodermal activity (i.e., physiological arousal)\n",
    "* **TEMP**: temperature of the skin\n",
    "* **ACC_x**: accelerometer data on the x axis\n",
    "* **ACC_y**: accelerometer data on the y axis\n",
    "* **ACC_z**: accelerometer data on the z axis"
   ]
  },
  {
   "cell_type": "markdown",
   "metadata": {},
   "source": [
    "Today we are going to explore Bertrand's physiological response to teaching! :) more specifically, we are going to explore the relationship between heart rate and electrodermal activity. "
   ]
  },
  {
   "cell_type": "markdown",
   "metadata": {},
   "source": [
    "# Panda Review"
   ]
  },
  {
   "cell_type": "markdown",
   "metadata": {},
   "source": [
    "Concepts: \n",
    "* head, tail, info, values\n",
    "* zip, dict, pd.DataFrame\n",
    "* df.columns\n",
    "* read_csv, delimiter, header, index\n",
    "\n"
   ]
  },
  {
   "cell_type": "code",
   "execution_count": 1,
   "metadata": {
    "ExecuteTime": {
     "end_time": "2019-02-28T23:26:42.657015Z",
     "start_time": "2019-02-28T23:26:42.438924Z"
    }
   },
   "outputs": [],
   "source": [
    "# 1) import the pandas library as pd\n",
    "import pandas as pd"
   ]
  },
  {
   "cell_type": "code",
   "execution_count": 2,
   "metadata": {
    "ExecuteTime": {
     "end_time": "2019-02-28T23:26:43.143435Z",
     "start_time": "2019-02-28T23:26:42.783096Z"
    }
   },
   "outputs": [],
   "source": [
    "# 2) import the csv file into a variable called df\n",
    "df = pd.read_csv(\"Bertrand-physiodata.csv\")"
   ]
  },
  {
   "cell_type": "code",
   "execution_count": 3,
   "metadata": {
    "ExecuteTime": {
     "end_time": "2019-02-28T23:26:43.253814Z",
     "start_time": "2019-02-28T23:26:43.245370Z"
    }
   },
   "outputs": [
    {
     "data": {
      "text/plain": [
       "Index(['tags', 'real time', 'unix time', 'BVP', 'HR', 'EDA', 'TEMP', 'ACC_x',\n",
       "       'ACC_y', 'ACC_z'],\n",
       "      dtype='object')"
      ]
     },
     "execution_count": 3,
     "metadata": {},
     "output_type": "execute_result"
    }
   ],
   "source": [
    "# 3) print the column names, just to make \n",
    "# sure that it matches what we have above\n",
    "df.columns"
   ]
  },
  {
   "cell_type": "code",
   "execution_count": 4,
   "metadata": {
    "ExecuteTime": {
     "end_time": "2019-02-28T23:26:43.365444Z",
     "start_time": "2019-02-28T23:26:43.354010Z"
    }
   },
   "outputs": [
    {
     "data": {
      "text/html": [
       "<div>\n",
       "<style scoped>\n",
       "    .dataframe tbody tr th:only-of-type {\n",
       "        vertical-align: middle;\n",
       "    }\n",
       "\n",
       "    .dataframe tbody tr th {\n",
       "        vertical-align: top;\n",
       "    }\n",
       "\n",
       "    .dataframe thead th {\n",
       "        text-align: right;\n",
       "    }\n",
       "</style>\n",
       "<table border=\"1\" class=\"dataframe\">\n",
       "  <thead>\n",
       "    <tr style=\"text-align: right;\">\n",
       "      <th></th>\n",
       "      <th>tags</th>\n",
       "      <th>real time</th>\n",
       "      <th>unix time</th>\n",
       "      <th>BVP</th>\n",
       "      <th>HR</th>\n",
       "      <th>EDA</th>\n",
       "      <th>TEMP</th>\n",
       "      <th>ACC_x</th>\n",
       "      <th>ACC_y</th>\n",
       "      <th>ACC_z</th>\n",
       "    </tr>\n",
       "  </thead>\n",
       "  <tbody>\n",
       "    <tr>\n",
       "      <th>0</th>\n",
       "      <td>0.0</td>\n",
       "      <td>9/11/18 08:28</td>\n",
       "      <td>1.536669e+09</td>\n",
       "      <td>0.0</td>\n",
       "      <td>NaN</td>\n",
       "      <td>0.0</td>\n",
       "      <td>33.31</td>\n",
       "      <td>-50.0</td>\n",
       "      <td>7.0</td>\n",
       "      <td>28.0</td>\n",
       "    </tr>\n",
       "    <tr>\n",
       "      <th>1</th>\n",
       "      <td>0.0</td>\n",
       "      <td>9/11/18 08:28</td>\n",
       "      <td>1.536669e+09</td>\n",
       "      <td>0.0</td>\n",
       "      <td>NaN</td>\n",
       "      <td>NaN</td>\n",
       "      <td>NaN</td>\n",
       "      <td>NaN</td>\n",
       "      <td>NaN</td>\n",
       "      <td>NaN</td>\n",
       "    </tr>\n",
       "    <tr>\n",
       "      <th>2</th>\n",
       "      <td>0.0</td>\n",
       "      <td>9/11/18 08:28</td>\n",
       "      <td>1.536669e+09</td>\n",
       "      <td>0.0</td>\n",
       "      <td>NaN</td>\n",
       "      <td>NaN</td>\n",
       "      <td>NaN</td>\n",
       "      <td>-41.0</td>\n",
       "      <td>6.0</td>\n",
       "      <td>28.0</td>\n",
       "    </tr>\n",
       "    <tr>\n",
       "      <th>3</th>\n",
       "      <td>0.0</td>\n",
       "      <td>9/11/18 08:28</td>\n",
       "      <td>1.536669e+09</td>\n",
       "      <td>0.0</td>\n",
       "      <td>NaN</td>\n",
       "      <td>NaN</td>\n",
       "      <td>NaN</td>\n",
       "      <td>NaN</td>\n",
       "      <td>NaN</td>\n",
       "      <td>NaN</td>\n",
       "    </tr>\n",
       "    <tr>\n",
       "      <th>4</th>\n",
       "      <td>0.0</td>\n",
       "      <td>9/11/18 08:28</td>\n",
       "      <td>1.536669e+09</td>\n",
       "      <td>0.0</td>\n",
       "      <td>NaN</td>\n",
       "      <td>NaN</td>\n",
       "      <td>NaN</td>\n",
       "      <td>-40.0</td>\n",
       "      <td>7.0</td>\n",
       "      <td>25.0</td>\n",
       "    </tr>\n",
       "  </tbody>\n",
       "</table>\n",
       "</div>"
      ],
      "text/plain": [
       "   tags      real time     unix time  BVP  HR  EDA   TEMP  ACC_x  ACC_y  ACC_z\n",
       "0   0.0  9/11/18 08:28  1.536669e+09  0.0 NaN  0.0  33.31  -50.0    7.0   28.0\n",
       "1   0.0  9/11/18 08:28  1.536669e+09  0.0 NaN  NaN    NaN    NaN    NaN    NaN\n",
       "2   0.0  9/11/18 08:28  1.536669e+09  0.0 NaN  NaN    NaN  -41.0    6.0   28.0\n",
       "3   0.0  9/11/18 08:28  1.536669e+09  0.0 NaN  NaN    NaN    NaN    NaN    NaN\n",
       "4   0.0  9/11/18 08:28  1.536669e+09  0.0 NaN  NaN    NaN  -40.0    7.0   25.0"
      ]
     },
     "execution_count": 4,
     "metadata": {},
     "output_type": "execute_result"
    }
   ],
   "source": [
    "# 4) use the head() function to check your data\n",
    "df.head()"
   ]
  },
  {
   "cell_type": "code",
   "execution_count": 5,
   "metadata": {
    "ExecuteTime": {
     "end_time": "2019-02-28T23:26:43.799815Z",
     "start_time": "2019-02-28T23:26:43.787063Z"
    }
   },
   "outputs": [
    {
     "data": {
      "text/html": [
       "<div>\n",
       "<style scoped>\n",
       "    .dataframe tbody tr th:only-of-type {\n",
       "        vertical-align: middle;\n",
       "    }\n",
       "\n",
       "    .dataframe tbody tr th {\n",
       "        vertical-align: top;\n",
       "    }\n",
       "\n",
       "    .dataframe thead th {\n",
       "        text-align: right;\n",
       "    }\n",
       "</style>\n",
       "<table border=\"1\" class=\"dataframe\">\n",
       "  <thead>\n",
       "    <tr style=\"text-align: right;\">\n",
       "      <th></th>\n",
       "      <th>tags</th>\n",
       "      <th>real time</th>\n",
       "      <th>unix time</th>\n",
       "      <th>BVP</th>\n",
       "      <th>HR</th>\n",
       "      <th>EDA</th>\n",
       "      <th>TEMP</th>\n",
       "      <th>ACC_x</th>\n",
       "      <th>ACC_y</th>\n",
       "      <th>ACC_z</th>\n",
       "    </tr>\n",
       "  </thead>\n",
       "  <tbody>\n",
       "    <tr>\n",
       "      <th>333871</th>\n",
       "      <td>2.0</td>\n",
       "      <td>9/11/18 09:55</td>\n",
       "      <td>1.536674e+09</td>\n",
       "      <td>-2.74</td>\n",
       "      <td>NaN</td>\n",
       "      <td>NaN</td>\n",
       "      <td>NaN</td>\n",
       "      <td>NaN</td>\n",
       "      <td>NaN</td>\n",
       "      <td>NaN</td>\n",
       "    </tr>\n",
       "    <tr>\n",
       "      <th>333872</th>\n",
       "      <td>2.0</td>\n",
       "      <td>9/11/18 09:55</td>\n",
       "      <td>1.536674e+09</td>\n",
       "      <td>-2.11</td>\n",
       "      <td>NaN</td>\n",
       "      <td>NaN</td>\n",
       "      <td>NaN</td>\n",
       "      <td>-43.0</td>\n",
       "      <td>15.0</td>\n",
       "      <td>44.0</td>\n",
       "    </tr>\n",
       "    <tr>\n",
       "      <th>333873</th>\n",
       "      <td>2.0</td>\n",
       "      <td>9/11/18 09:55</td>\n",
       "      <td>1.536674e+09</td>\n",
       "      <td>-1.64</td>\n",
       "      <td>NaN</td>\n",
       "      <td>NaN</td>\n",
       "      <td>NaN</td>\n",
       "      <td>NaN</td>\n",
       "      <td>NaN</td>\n",
       "      <td>NaN</td>\n",
       "    </tr>\n",
       "    <tr>\n",
       "      <th>333874</th>\n",
       "      <td>2.0</td>\n",
       "      <td>9/11/18 09:55</td>\n",
       "      <td>1.536674e+09</td>\n",
       "      <td>-1.48</td>\n",
       "      <td>NaN</td>\n",
       "      <td>NaN</td>\n",
       "      <td>NaN</td>\n",
       "      <td>-42.0</td>\n",
       "      <td>15.0</td>\n",
       "      <td>44.0</td>\n",
       "    </tr>\n",
       "    <tr>\n",
       "      <th>333875</th>\n",
       "      <td>NaN</td>\n",
       "      <td>NaN</td>\n",
       "      <td>NaN</td>\n",
       "      <td>-1.66</td>\n",
       "      <td>NaN</td>\n",
       "      <td>NaN</td>\n",
       "      <td>NaN</td>\n",
       "      <td>NaN</td>\n",
       "      <td>NaN</td>\n",
       "      <td>NaN</td>\n",
       "    </tr>\n",
       "  </tbody>\n",
       "</table>\n",
       "</div>"
      ],
      "text/plain": [
       "        tags      real time     unix time   BVP  HR  EDA  TEMP  ACC_x  ACC_y  \\\n",
       "333871   2.0  9/11/18 09:55  1.536674e+09 -2.74 NaN  NaN   NaN    NaN    NaN   \n",
       "333872   2.0  9/11/18 09:55  1.536674e+09 -2.11 NaN  NaN   NaN  -43.0   15.0   \n",
       "333873   2.0  9/11/18 09:55  1.536674e+09 -1.64 NaN  NaN   NaN    NaN    NaN   \n",
       "333874   2.0  9/11/18 09:55  1.536674e+09 -1.48 NaN  NaN   NaN  -42.0   15.0   \n",
       "333875   NaN            NaN           NaN -1.66 NaN  NaN   NaN    NaN    NaN   \n",
       "\n",
       "        ACC_z  \n",
       "333871    NaN  \n",
       "333872   44.0  \n",
       "333873    NaN  \n",
       "333874   44.0  \n",
       "333875    NaN  "
      ]
     },
     "execution_count": 5,
     "metadata": {},
     "output_type": "execute_result"
    }
   ],
   "source": [
    "# 5) use the tail() function on your dataframe. How many rows do you have?\n",
    "df.tail()"
   ]
  },
  {
   "cell_type": "code",
   "execution_count": 6,
   "metadata": {
    "ExecuteTime": {
     "end_time": "2019-02-28T23:26:43.945293Z",
     "start_time": "2019-02-28T23:26:43.881448Z"
    }
   },
   "outputs": [
    {
     "name": "stdout",
     "output_type": "stream",
     "text": [
      "<class 'pandas.core.frame.DataFrame'>\n",
      "RangeIndex: 333876 entries, 0 to 333875\n",
      "Data columns (total 10 columns):\n",
      "tags         333875 non-null float64\n",
      "real time    333575 non-null object\n",
      "unix time    333875 non-null float64\n",
      "BVP          333575 non-null float64\n",
      "HR           5203 non-null float64\n",
      "EDA          20849 non-null float64\n",
      "TEMP         20848 non-null float64\n",
      "ACC_x        166788 non-null float64\n",
      "ACC_y        166788 non-null float64\n",
      "ACC_z        166788 non-null float64\n",
      "dtypes: float64(9), object(1)\n",
      "memory usage: 25.5+ MB\n"
     ]
    }
   ],
   "source": [
    "# 6) use the info() function to inspect your data:\n",
    "df.info()"
   ]
  },
  {
   "cell_type": "code",
   "execution_count": 7,
   "metadata": {
    "ExecuteTime": {
     "end_time": "2019-02-28T23:26:44.155025Z",
     "start_time": "2019-02-28T23:26:44.151553Z"
    }
   },
   "outputs": [
    {
     "name": "stdout",
     "output_type": "stream",
     "text": [
      "1 4 32\n"
     ]
    }
   ],
   "source": [
    "# 7) knowing that BVP is collected 64 times per second (i.e., 64Hz),\n",
    "# what can you tell of the sampling frequency of the other measures?\n",
    "HR_rate = round (5203 / 333575 * 64)\n",
    "EDA_TEMP_rate = round (20849 / 333575 * 64)\n",
    "ACC_rate = round (166788 / 333575 * 64)\n",
    "print(HR_rate,EDA_TEMP_rate,ACC_rate)"
   ]
  },
  {
   "cell_type": "markdown",
   "metadata": {},
   "source": [
    "# Plotting"
   ]
  },
  {
   "cell_type": "markdown",
   "metadata": {},
   "source": [
    "Concepts: \n",
    "* plot, subplot, line plots, scatter, box plots, hist, ...\n",
    "* mean, median, quantiles, STD, etc. \n",
    "* separate and summarize"
   ]
  },
  {
   "cell_type": "code",
   "execution_count": 8,
   "metadata": {
    "ExecuteTime": {
     "end_time": "2019-02-28T23:26:44.356296Z",
     "start_time": "2019-02-28T23:26:44.245806Z"
    }
   },
   "outputs": [],
   "source": [
    "# 8) make sure you're plotting your graphs inline\n",
    "# Hint: https://stackoverflow.com/questions/19410042/how-to-make-ipython-notebook-matplotlib-plot-inline\n",
    "import matplotlib.pyplot as plt\n",
    "\n",
    "% matplotlib inline"
   ]
  },
  {
   "cell_type": "markdown",
   "metadata": {},
   "source": [
    "### Let's work on the heart rate (HR) data first"
   ]
  },
  {
   "cell_type": "markdown",
   "metadata": {},
   "source": [
    "In this section we are going to produce various graphs to inspect Bertrand's heart rate data. "
   ]
  },
  {
   "cell_type": "code",
   "execution_count": 9,
   "metadata": {
    "ExecuteTime": {
     "end_time": "2019-02-28T23:26:45.760802Z",
     "start_time": "2019-02-28T23:26:45.653398Z"
    }
   },
   "outputs": [
    {
     "data": {
      "image/png": "[encoded data removed]",
      "text/plain": [
       "<Figure size 432x288 with 1 Axes>"
      ]
     },
     "metadata": {},
     "output_type": "display_data"
    }
   ],
   "source": [
    "# 9) produce a histogram of the heart rate data; what can you say from it?\n",
    "df.HR.plot(kind='hist') # Or, df.HR.hist()\n",
    "plt.show()"
   ]
  },
  {
   "cell_type": "code",
   "execution_count": 10,
   "metadata": {
    "ExecuteTime": {
     "end_time": "2019-02-28T23:26:46.169326Z",
     "start_time": "2019-02-28T23:26:46.088845Z"
    }
   },
   "outputs": [
    {
     "data": {
      "text/plain": [
       "[]"
      ]
     },
     "execution_count": 10,
     "metadata": {},
     "output_type": "execute_result"
    },
    {
     "data": {
      "image/png": "[encoded data removed]",
      "text/plain": [
       "<Figure size 432x288 with 1 Axes>"
      ]
     },
     "metadata": {},
     "output_type": "display_data"
    }
   ],
   "source": [
    "# 10) Try to plot the values over time (e.g., use the real time for the x axis):\n",
    "plt.plot(x=df[\"real time\"], y=df[\"HR\"])"
   ]
  },
  {
   "cell_type": "markdown",
   "metadata": {},
   "source": [
    "11) What happened? Come up with 2-3 reasons why this didn't work before you move on to the next question:\n",
    "- reason 1: Real time is not continuous as it stands\n",
    "- reason 2: Null values\n",
    "- reason 3: Different number of values (sampling rate)"
   ]
  },
  {
   "cell_type": "markdown",
   "metadata": {},
   "source": [
    "After you've anwered the question above, feel free to look at this hint and try to fix your dataframe: https://stackoverflow.com/questions/22551403/python-pandas-filtering-out-nan-from-a-data-selection-of-a-column-of-strings/22553757"
   ]
  },
  {
   "cell_type": "code",
   "execution_count": 11,
   "metadata": {
    "ExecuteTime": {
     "end_time": "2019-02-28T23:26:48.513419Z",
     "start_time": "2019-02-28T23:26:47.710968Z"
    }
   },
   "outputs": [
    {
     "data": {
      "image/png": "[encoded data removed]",
      "text/plain": [
       "<Figure size 432x288 with 1 Axes>"
      ]
     },
     "metadata": {},
     "output_type": "display_data"
    }
   ],
   "source": [
    "# 12) Fix your dataframe using the link above: \n",
    "df_nonull = df.dropna()\n",
    "plt.plot(df_nonull[\"real time\"], df_nonull[\"HR\"])\n",
    "plt.show()"
   ]
  },
  {
   "cell_type": "code",
   "execution_count": 12,
   "metadata": {
    "ExecuteTime": {
     "end_time": "2019-02-28T23:26:49.635531Z",
     "start_time": "2019-02-28T23:26:48.672194Z"
    }
   },
   "outputs": [
    {
     "data": {
      "text/plain": [
       "[<matplotlib.lines.Line2D at 0x11614fe80>]"
      ]
     },
     "execution_count": 12,
     "metadata": {},
     "output_type": "execute_result"
    },
    {
     "data": {
      "image/png": "[encoded data removed]",
      "text/plain": [
       "<Figure size 432x288 with 1 Axes>"
      ]
     },
     "metadata": {},
     "output_type": "display_data"
    }
   ],
   "source": [
    "#Or, better,\n",
    "df_filter = df[df.HR.notnull()]\n",
    "plt.plot(df_filter[\"real time\"], df_filter[\"HR\"])"
   ]
  },
  {
   "cell_type": "markdown",
   "metadata": {},
   "source": [
    "### Now let's look at the electrodermal activity data (EDA)"
   ]
  },
  {
   "cell_type": "markdown",
   "metadata": {},
   "source": [
    "In this section we are going to produce various graphs to inspect Bertrand's electrodermal data. "
   ]
  },
  {
   "cell_type": "code",
   "execution_count": 13,
   "metadata": {
    "ExecuteTime": {
     "end_time": "2019-02-28T23:26:53.962724Z",
     "start_time": "2019-02-28T23:26:52.985809Z"
    }
   },
   "outputs": [
    {
     "data": {
      "text/plain": [
       "[<matplotlib.lines.Line2D at 0x1160320f0>]"
      ]
     },
     "execution_count": 13,
     "metadata": {},
     "output_type": "execute_result"
    },
    {
     "data": {
      "image/png": "[encoded data removed]",
      "text/plain": [
       "<Figure size 432x288 with 1 Axes>"
      ]
     },
     "metadata": {},
     "output_type": "display_data"
    }
   ],
   "source": [
    "# 13) produce a line plot to visually inspect the EDA data\n",
    "# Hint: make sure you filter the nonnull data\n",
    "plt.plot(df_nonull[\"real time\"], df_nonull[\"EDA\"])"
   ]
  },
  {
   "cell_type": "code",
   "execution_count": 15,
   "metadata": {
    "ExecuteTime": {
     "end_time": "2019-02-28T22:22:00.445918Z",
     "start_time": "2019-02-28T22:22:00.443386Z"
    }
   },
   "outputs": [],
   "source": [
    "# trying to just filterout the NaNs in the columns, insted of the entire dataframe\n",
    "plt.plot(df[\"real time\"].dropna(),df[\"EDA\"].dropna())\n",
    "# Note to self: apparently the dimensions differ, so that failed"
   ]
  },
  {
   "cell_type": "markdown",
   "metadata": {},
   "source": [
    "Feel free to look at the following page to make sense of the units of the EDA data: \n",
    "* https://support.empatica.com/hc/en-us/articles/203621955-What-should-I-know-to-use-EDA-data-in-my-experiment-"
   ]
  },
  {
   "cell_type": "code",
   "execution_count": 14,
   "metadata": {
    "ExecuteTime": {
     "end_time": "2019-02-28T23:26:57.925974Z",
     "start_time": "2019-02-28T23:26:57.224366Z"
    }
   },
   "outputs": [
    {
     "name": "stdout",
     "output_type": "stream",
     "text": [
      "<class 'pandas.core.frame.DataFrame'>\n",
      "DatetimeIndex: 333876 entries, 2018-09-11 08:28:00 to NaT\n",
      "Data columns (total 9 columns):\n",
      "tags         333875 non-null float64\n",
      "unix time    333875 non-null float64\n",
      "BVP          333575 non-null float64\n",
      "HR           5203 non-null float64\n",
      "EDA          20849 non-null float64\n",
      "TEMP         20848 non-null float64\n",
      "ACC_x        166788 non-null float64\n",
      "ACC_y        166788 non-null float64\n",
      "ACC_z        166788 non-null float64\n",
      "dtypes: float64(9)\n",
      "memory usage: 25.5 MB\n"
     ]
    }
   ],
   "source": [
    "# 14) we don't have any labels on the x axis! \n",
    "# convert the 'real time' column into a real date time\n",
    "# Hint: https://campus.datacamp.com/courses/pandas-foundations/time-series-in-pandas?ex=3\n",
    "\n",
    "time_format = '%m/%d/%y %H:%M'\n",
    "df['real time'] = pd.to_datetime(df['real time'], format=time_format)\n",
    "df = df.set_index('real time')\n",
    "df.info()"
   ]
  },
  {
   "cell_type": "code",
   "execution_count": 15,
   "metadata": {
    "ExecuteTime": {
     "end_time": "2019-02-28T23:26:58.315075Z",
     "start_time": "2019-02-28T23:26:58.169766Z"
    }
   },
   "outputs": [
    {
     "name": "stdout",
     "output_type": "stream",
     "text": [
      "mean = 5.18050743853421 \n",
      "median = 5.320238\n"
     ]
    },
    {
     "data": {
      "text/plain": [
       "<matplotlib.axes._subplots.AxesSubplot at 0x115f1e860>"
      ]
     },
     "execution_count": 15,
     "metadata": {},
     "output_type": "execute_result"
    },
    {
     "data": {
      "image/png": "[encoded data removed]",
      "text/plain": [
       "<Figure size 432x288 with 2 Axes>"
      ]
     },
     "metadata": {},
     "output_type": "display_data"
    }
   ],
   "source": [
    "# 15) print the mean and median values of the EDA data; explain how they are different\n",
    "print(\"mean =\", df.EDA.mean(), \"\\nmedian =\", df.EDA.median())\n",
    "fig, axes = plt.subplots (nrows=2)\n",
    "df.EDA.plot(kind='box',ax=axes[0])\n",
    "df.EDA.plot(kind='hist',ax=axes[1])"
   ]
  },
  {
   "cell_type": "markdown",
   "metadata": {},
   "source": [
    "As the box plot and histogram reveal, while the box plot revealed some significant outliers at the higher value range, the EDA is mostly normally distributed, apart from a significant amount of very small data (the first bar located to the left of the histogram). It is likely that the high frequency of small data caused the mean to be lower than the median."
   ]
  },
  {
   "cell_type": "code",
   "execution_count": 16,
   "metadata": {
    "ExecuteTime": {
     "end_time": "2019-02-28T23:27:00.556609Z",
     "start_time": "2019-02-28T23:27:00.554086Z"
    }
   },
   "outputs": [],
   "source": [
    "# 16) plot a histogram of the EDA values; does that confirm your interpretation above?\n",
    "\n",
    "# Apartly my problem solving process is ahead of schedule for this notebook."
   ]
  },
  {
   "cell_type": "markdown",
   "metadata": {},
   "source": [
    "### Combining EDA and HR data on the same graph"
   ]
  },
  {
   "cell_type": "markdown",
   "metadata": {},
   "source": [
    "In this section we are going to produce various graphs to inspect both the HR and EDA data."
   ]
  },
  {
   "cell_type": "code",
   "execution_count": 17,
   "metadata": {
    "ExecuteTime": {
     "end_time": "2019-02-28T23:27:02.613680Z",
     "start_time": "2019-02-28T23:27:02.578279Z"
    }
   },
   "outputs": [
    {
     "name": "stdout",
     "output_type": "stream",
     "text": [
      "<class 'pandas.core.frame.DataFrame'>\n",
      "DatetimeIndex: 5203 entries, 2018-09-11 08:28:00 to 2018-09-11 09:55:00\n",
      "Data columns (total 9 columns):\n",
      "tags         5203 non-null float64\n",
      "unix time    5203 non-null float64\n",
      "BVP          5203 non-null float64\n",
      "HR           5203 non-null float64\n",
      "EDA          5203 non-null float64\n",
      "TEMP         5202 non-null float64\n",
      "ACC_x        5203 non-null float64\n",
      "ACC_y        5203 non-null float64\n",
      "ACC_z        5203 non-null float64\n",
      "dtypes: float64(9)\n",
      "memory usage: 406.5 KB\n"
     ]
    },
    {
     "data": {
      "text/html": [
       "<div>\n",
       "<style scoped>\n",
       "    .dataframe tbody tr th:only-of-type {\n",
       "        vertical-align: middle;\n",
       "    }\n",
       "\n",
       "    .dataframe tbody tr th {\n",
       "        vertical-align: top;\n",
       "    }\n",
       "\n",
       "    .dataframe thead th {\n",
       "        text-align: right;\n",
       "    }\n",
       "</style>\n",
       "<table border=\"1\" class=\"dataframe\">\n",
       "  <thead>\n",
       "    <tr style=\"text-align: right;\">\n",
       "      <th></th>\n",
       "      <th>tags</th>\n",
       "      <th>unix time</th>\n",
       "      <th>BVP</th>\n",
       "      <th>HR</th>\n",
       "      <th>EDA</th>\n",
       "      <th>TEMP</th>\n",
       "      <th>ACC_x</th>\n",
       "      <th>ACC_y</th>\n",
       "      <th>ACC_z</th>\n",
       "    </tr>\n",
       "    <tr>\n",
       "      <th>real time</th>\n",
       "      <th></th>\n",
       "      <th></th>\n",
       "      <th></th>\n",
       "      <th></th>\n",
       "      <th></th>\n",
       "      <th></th>\n",
       "      <th></th>\n",
       "      <th></th>\n",
       "      <th></th>\n",
       "    </tr>\n",
       "  </thead>\n",
       "  <tbody>\n",
       "    <tr>\n",
       "      <th>2018-09-11 08:28:00</th>\n",
       "      <td>0.0</td>\n",
       "      <td>1.536669e+09</td>\n",
       "      <td>-79.05</td>\n",
       "      <td>72.00</td>\n",
       "      <td>1.059777</td>\n",
       "      <td>33.31</td>\n",
       "      <td>-13.0</td>\n",
       "      <td>65.0</td>\n",
       "      <td>-24.0</td>\n",
       "    </tr>\n",
       "    <tr>\n",
       "      <th>2018-09-11 08:28:00</th>\n",
       "      <td>0.0</td>\n",
       "      <td>1.536669e+09</td>\n",
       "      <td>218.11</td>\n",
       "      <td>71.50</td>\n",
       "      <td>1.125105</td>\n",
       "      <td>33.31</td>\n",
       "      <td>-35.0</td>\n",
       "      <td>-7.0</td>\n",
       "      <td>34.0</td>\n",
       "    </tr>\n",
       "    <tr>\n",
       "      <th>2018-09-11 08:28:00</th>\n",
       "      <td>0.0</td>\n",
       "      <td>1.536669e+09</td>\n",
       "      <td>-20.02</td>\n",
       "      <td>65.00</td>\n",
       "      <td>1.501703</td>\n",
       "      <td>33.31</td>\n",
       "      <td>-40.0</td>\n",
       "      <td>-12.0</td>\n",
       "      <td>34.0</td>\n",
       "    </tr>\n",
       "    <tr>\n",
       "      <th>2018-09-11 08:28:00</th>\n",
       "      <td>0.0</td>\n",
       "      <td>1.536669e+09</td>\n",
       "      <td>76.70</td>\n",
       "      <td>92.25</td>\n",
       "      <td>1.204524</td>\n",
       "      <td>33.31</td>\n",
       "      <td>-31.0</td>\n",
       "      <td>13.0</td>\n",
       "      <td>46.0</td>\n",
       "    </tr>\n",
       "    <tr>\n",
       "      <th>2018-09-11 08:28:00</th>\n",
       "      <td>0.0</td>\n",
       "      <td>1.536669e+09</td>\n",
       "      <td>71.85</td>\n",
       "      <td>87.60</td>\n",
       "      <td>1.184028</td>\n",
       "      <td>33.31</td>\n",
       "      <td>-38.0</td>\n",
       "      <td>8.0</td>\n",
       "      <td>51.0</td>\n",
       "    </tr>\n",
       "    <tr>\n",
       "      <th>2018-09-11 08:28:00</th>\n",
       "      <td>0.0</td>\n",
       "      <td>1.536669e+09</td>\n",
       "      <td>9.11</td>\n",
       "      <td>102.00</td>\n",
       "      <td>1.171219</td>\n",
       "      <td>33.31</td>\n",
       "      <td>-39.0</td>\n",
       "      <td>8.0</td>\n",
       "      <td>49.0</td>\n",
       "    </tr>\n",
       "    <tr>\n",
       "      <th>2018-09-11 08:28:00</th>\n",
       "      <td>0.0</td>\n",
       "      <td>1.536669e+09</td>\n",
       "      <td>-12.12</td>\n",
       "      <td>112.29</td>\n",
       "      <td>1.164814</td>\n",
       "      <td>33.34</td>\n",
       "      <td>-36.0</td>\n",
       "      <td>5.0</td>\n",
       "      <td>50.0</td>\n",
       "    </tr>\n",
       "    <tr>\n",
       "      <th>2018-09-11 08:28:00</th>\n",
       "      <td>0.0</td>\n",
       "      <td>1.536669e+09</td>\n",
       "      <td>4.94</td>\n",
       "      <td>121.25</td>\n",
       "      <td>1.154567</td>\n",
       "      <td>33.34</td>\n",
       "      <td>-38.0</td>\n",
       "      <td>8.0</td>\n",
       "      <td>50.0</td>\n",
       "    </tr>\n",
       "    <tr>\n",
       "      <th>2018-09-11 08:28:00</th>\n",
       "      <td>0.0</td>\n",
       "      <td>1.536669e+09</td>\n",
       "      <td>-3.46</td>\n",
       "      <td>130.00</td>\n",
       "      <td>1.136634</td>\n",
       "      <td>33.39</td>\n",
       "      <td>-38.0</td>\n",
       "      <td>9.0</td>\n",
       "      <td>50.0</td>\n",
       "    </tr>\n",
       "    <tr>\n",
       "      <th>2018-09-11 08:28:00</th>\n",
       "      <td>0.0</td>\n",
       "      <td>1.536669e+09</td>\n",
       "      <td>-11.60</td>\n",
       "      <td>136.60</td>\n",
       "      <td>1.116138</td>\n",
       "      <td>33.43</td>\n",
       "      <td>-37.0</td>\n",
       "      <td>7.0</td>\n",
       "      <td>50.0</td>\n",
       "    </tr>\n",
       "    <tr>\n",
       "      <th>2018-09-11 08:28:00</th>\n",
       "      <td>0.0</td>\n",
       "      <td>1.536669e+09</td>\n",
       "      <td>-12.60</td>\n",
       "      <td>142.09</td>\n",
       "      <td>1.118700</td>\n",
       "      <td>33.45</td>\n",
       "      <td>-37.0</td>\n",
       "      <td>6.0</td>\n",
       "      <td>51.0</td>\n",
       "    </tr>\n",
       "    <tr>\n",
       "      <th>2018-09-11 08:28:00</th>\n",
       "      <td>0.0</td>\n",
       "      <td>1.536669e+09</td>\n",
       "      <td>-7.33</td>\n",
       "      <td>147.42</td>\n",
       "      <td>1.104610</td>\n",
       "      <td>33.47</td>\n",
       "      <td>-36.0</td>\n",
       "      <td>6.0</td>\n",
       "      <td>51.0</td>\n",
       "    </tr>\n",
       "    <tr>\n",
       "      <th>2018-09-11 08:28:00</th>\n",
       "      <td>0.0</td>\n",
       "      <td>1.536669e+09</td>\n",
       "      <td>-18.01</td>\n",
       "      <td>151.85</td>\n",
       "      <td>1.096924</td>\n",
       "      <td>33.50</td>\n",
       "      <td>-37.0</td>\n",
       "      <td>9.0</td>\n",
       "      <td>53.0</td>\n",
       "    </tr>\n",
       "    <tr>\n",
       "      <th>2018-09-11 08:28:00</th>\n",
       "      <td>0.0</td>\n",
       "      <td>1.536669e+09</td>\n",
       "      <td>41.91</td>\n",
       "      <td>155.71</td>\n",
       "      <td>1.077710</td>\n",
       "      <td>33.53</td>\n",
       "      <td>-35.0</td>\n",
       "      <td>7.0</td>\n",
       "      <td>52.0</td>\n",
       "    </tr>\n",
       "    <tr>\n",
       "      <th>2018-09-11 08:28:00</th>\n",
       "      <td>0.0</td>\n",
       "      <td>1.536669e+09</td>\n",
       "      <td>12.26</td>\n",
       "      <td>158.87</td>\n",
       "      <td>0.994449</td>\n",
       "      <td>33.55</td>\n",
       "      <td>-36.0</td>\n",
       "      <td>32.0</td>\n",
       "      <td>38.0</td>\n",
       "    </tr>\n",
       "    <tr>\n",
       "      <th>2018-09-11 08:28:00</th>\n",
       "      <td>0.0</td>\n",
       "      <td>1.536669e+09</td>\n",
       "      <td>-216.84</td>\n",
       "      <td>161.56</td>\n",
       "      <td>1.026373</td>\n",
       "      <td>33.61</td>\n",
       "      <td>-36.0</td>\n",
       "      <td>13.0</td>\n",
       "      <td>80.0</td>\n",
       "    </tr>\n",
       "    <tr>\n",
       "      <th>2018-09-11 08:28:00</th>\n",
       "      <td>0.0</td>\n",
       "      <td>1.536669e+09</td>\n",
       "      <td>90.85</td>\n",
       "      <td>161.76</td>\n",
       "      <td>0.925178</td>\n",
       "      <td>33.61</td>\n",
       "      <td>-62.0</td>\n",
       "      <td>-22.0</td>\n",
       "      <td>-14.0</td>\n",
       "    </tr>\n",
       "    <tr>\n",
       "      <th>2018-09-11 08:28:00</th>\n",
       "      <td>0.0</td>\n",
       "      <td>1.536669e+09</td>\n",
       "      <td>-36.59</td>\n",
       "      <td>162.22</td>\n",
       "      <td>0.980259</td>\n",
       "      <td>33.61</td>\n",
       "      <td>-27.0</td>\n",
       "      <td>-45.0</td>\n",
       "      <td>-46.0</td>\n",
       "    </tr>\n",
       "    <tr>\n",
       "      <th>2018-09-11 08:28:00</th>\n",
       "      <td>0.0</td>\n",
       "      <td>1.536669e+09</td>\n",
       "      <td>-23.90</td>\n",
       "      <td>162.63</td>\n",
       "      <td>0.975135</td>\n",
       "      <td>33.61</td>\n",
       "      <td>-28.0</td>\n",
       "      <td>-38.0</td>\n",
       "      <td>-37.0</td>\n",
       "    </tr>\n",
       "    <tr>\n",
       "      <th>2018-09-11 08:28:00</th>\n",
       "      <td>0.0</td>\n",
       "      <td>1.536669e+09</td>\n",
       "      <td>-139.83</td>\n",
       "      <td>163.05</td>\n",
       "      <td>1.098106</td>\n",
       "      <td>33.65</td>\n",
       "      <td>-41.0</td>\n",
       "      <td>-37.0</td>\n",
       "      <td>-35.0</td>\n",
       "    </tr>\n",
       "    <tr>\n",
       "      <th>2018-09-11 08:29:00</th>\n",
       "      <td>0.0</td>\n",
       "      <td>1.536669e+09</td>\n",
       "      <td>21.34</td>\n",
       "      <td>163.57</td>\n",
       "      <td>0.578042</td>\n",
       "      <td>33.65</td>\n",
       "      <td>-59.0</td>\n",
       "      <td>-32.0</td>\n",
       "      <td>-14.0</td>\n",
       "    </tr>\n",
       "    <tr>\n",
       "      <th>2018-09-11 08:29:00</th>\n",
       "      <td>0.0</td>\n",
       "      <td>1.536669e+09</td>\n",
       "      <td>-11.94</td>\n",
       "      <td>164.00</td>\n",
       "      <td>1.078892</td>\n",
       "      <td>33.65</td>\n",
       "      <td>-56.0</td>\n",
       "      <td>-38.0</td>\n",
       "      <td>-37.0</td>\n",
       "    </tr>\n",
       "    <tr>\n",
       "      <th>2018-09-11 08:29:00</th>\n",
       "      <td>0.0</td>\n",
       "      <td>1.536669e+09</td>\n",
       "      <td>338.27</td>\n",
       "      <td>164.43</td>\n",
       "      <td>0.854726</td>\n",
       "      <td>33.63</td>\n",
       "      <td>-35.0</td>\n",
       "      <td>-34.0</td>\n",
       "      <td>-45.0</td>\n",
       "    </tr>\n",
       "    <tr>\n",
       "      <th>2018-09-11 08:29:00</th>\n",
       "      <td>0.0</td>\n",
       "      <td>1.536669e+09</td>\n",
       "      <td>46.37</td>\n",
       "      <td>164.79</td>\n",
       "      <td>1.332519</td>\n",
       "      <td>33.66</td>\n",
       "      <td>-43.0</td>\n",
       "      <td>-26.0</td>\n",
       "      <td>-28.0</td>\n",
       "    </tr>\n",
       "    <tr>\n",
       "      <th>2018-09-11 08:29:00</th>\n",
       "      <td>0.0</td>\n",
       "      <td>1.536669e+09</td>\n",
       "      <td>-77.69</td>\n",
       "      <td>165.12</td>\n",
       "      <td>1.080173</td>\n",
       "      <td>33.65</td>\n",
       "      <td>-48.0</td>\n",
       "      <td>-34.0</td>\n",
       "      <td>-37.0</td>\n",
       "    </tr>\n",
       "    <tr>\n",
       "      <th>2018-09-11 08:29:00</th>\n",
       "      <td>0.0</td>\n",
       "      <td>1.536669e+09</td>\n",
       "      <td>-28.15</td>\n",
       "      <td>165.42</td>\n",
       "      <td>2.571491</td>\n",
       "      <td>33.49</td>\n",
       "      <td>-59.0</td>\n",
       "      <td>-35.0</td>\n",
       "      <td>-22.0</td>\n",
       "    </tr>\n",
       "    <tr>\n",
       "      <th>2018-09-11 08:29:00</th>\n",
       "      <td>0.0</td>\n",
       "      <td>1.536669e+09</td>\n",
       "      <td>47.93</td>\n",
       "      <td>165.67</td>\n",
       "      <td>1.277737</td>\n",
       "      <td>33.33</td>\n",
       "      <td>-25.0</td>\n",
       "      <td>-53.0</td>\n",
       "      <td>-24.0</td>\n",
       "    </tr>\n",
       "    <tr>\n",
       "      <th>2018-09-11 08:29:00</th>\n",
       "      <td>0.0</td>\n",
       "      <td>1.536669e+09</td>\n",
       "      <td>87.11</td>\n",
       "      <td>165.93</td>\n",
       "      <td>0.904683</td>\n",
       "      <td>33.39</td>\n",
       "      <td>-37.0</td>\n",
       "      <td>-36.0</td>\n",
       "      <td>-2.0</td>\n",
       "    </tr>\n",
       "    <tr>\n",
       "      <th>2018-09-11 08:29:00</th>\n",
       "      <td>0.0</td>\n",
       "      <td>1.536669e+09</td>\n",
       "      <td>-75.03</td>\n",
       "      <td>166.17</td>\n",
       "      <td>1.185210</td>\n",
       "      <td>32.95</td>\n",
       "      <td>-41.0</td>\n",
       "      <td>-54.0</td>\n",
       "      <td>10.0</td>\n",
       "    </tr>\n",
       "    <tr>\n",
       "      <th>2018-09-11 08:29:00</th>\n",
       "      <td>0.0</td>\n",
       "      <td>1.536669e+09</td>\n",
       "      <td>-103.29</td>\n",
       "      <td>164.93</td>\n",
       "      <td>1.174963</td>\n",
       "      <td>33.73</td>\n",
       "      <td>-1.0</td>\n",
       "      <td>14.0</td>\n",
       "      <td>63.0</td>\n",
       "    </tr>\n",
       "    <tr>\n",
       "      <th>...</th>\n",
       "      <td>...</td>\n",
       "      <td>...</td>\n",
       "      <td>...</td>\n",
       "      <td>...</td>\n",
       "      <td>...</td>\n",
       "      <td>...</td>\n",
       "      <td>...</td>\n",
       "      <td>...</td>\n",
       "      <td>...</td>\n",
       "    </tr>\n",
       "    <tr>\n",
       "      <th>2018-09-11 09:54:00</th>\n",
       "      <td>2.0</td>\n",
       "      <td>1.536674e+09</td>\n",
       "      <td>0.71</td>\n",
       "      <td>83.17</td>\n",
       "      <td>5.796750</td>\n",
       "      <td>34.55</td>\n",
       "      <td>-56.0</td>\n",
       "      <td>7.0</td>\n",
       "      <td>29.0</td>\n",
       "    </tr>\n",
       "    <tr>\n",
       "      <th>2018-09-11 09:54:00</th>\n",
       "      <td>2.0</td>\n",
       "      <td>1.536674e+09</td>\n",
       "      <td>0.61</td>\n",
       "      <td>83.17</td>\n",
       "      <td>5.713489</td>\n",
       "      <td>34.50</td>\n",
       "      <td>-56.0</td>\n",
       "      <td>7.0</td>\n",
       "      <td>30.0</td>\n",
       "    </tr>\n",
       "    <tr>\n",
       "      <th>2018-09-11 09:54:00</th>\n",
       "      <td>2.0</td>\n",
       "      <td>1.536674e+09</td>\n",
       "      <td>1.25</td>\n",
       "      <td>83.15</td>\n",
       "      <td>5.659689</td>\n",
       "      <td>34.53</td>\n",
       "      <td>-56.0</td>\n",
       "      <td>7.0</td>\n",
       "      <td>30.0</td>\n",
       "    </tr>\n",
       "    <tr>\n",
       "      <th>2018-09-11 09:54:00</th>\n",
       "      <td>2.0</td>\n",
       "      <td>1.536674e+09</td>\n",
       "      <td>-2.94</td>\n",
       "      <td>83.13</td>\n",
       "      <td>5.618699</td>\n",
       "      <td>34.55</td>\n",
       "      <td>-56.0</td>\n",
       "      <td>7.0</td>\n",
       "      <td>29.0</td>\n",
       "    </tr>\n",
       "    <tr>\n",
       "      <th>2018-09-11 09:54:00</th>\n",
       "      <td>2.0</td>\n",
       "      <td>1.536674e+09</td>\n",
       "      <td>21.09</td>\n",
       "      <td>83.10</td>\n",
       "      <td>5.727579</td>\n",
       "      <td>34.55</td>\n",
       "      <td>-56.0</td>\n",
       "      <td>8.0</td>\n",
       "      <td>30.0</td>\n",
       "    </tr>\n",
       "    <tr>\n",
       "      <th>2018-09-11 09:54:00</th>\n",
       "      <td>2.0</td>\n",
       "      <td>1.536674e+09</td>\n",
       "      <td>13.31</td>\n",
       "      <td>83.07</td>\n",
       "      <td>6.073013</td>\n",
       "      <td>34.55</td>\n",
       "      <td>-55.0</td>\n",
       "      <td>8.0</td>\n",
       "      <td>30.0</td>\n",
       "    </tr>\n",
       "    <tr>\n",
       "      <th>2018-09-11 09:54:00</th>\n",
       "      <td>2.0</td>\n",
       "      <td>1.536674e+09</td>\n",
       "      <td>-0.61</td>\n",
       "      <td>83.05</td>\n",
       "      <td>6.303583</td>\n",
       "      <td>34.55</td>\n",
       "      <td>-56.0</td>\n",
       "      <td>8.0</td>\n",
       "      <td>30.0</td>\n",
       "    </tr>\n",
       "    <tr>\n",
       "      <th>2018-09-11 09:55:00</th>\n",
       "      <td>2.0</td>\n",
       "      <td>1.536674e+09</td>\n",
       "      <td>3.93</td>\n",
       "      <td>83.05</td>\n",
       "      <td>6.306145</td>\n",
       "      <td>34.57</td>\n",
       "      <td>-55.0</td>\n",
       "      <td>6.0</td>\n",
       "      <td>30.0</td>\n",
       "    </tr>\n",
       "    <tr>\n",
       "      <th>2018-09-11 09:55:00</th>\n",
       "      <td>2.0</td>\n",
       "      <td>1.536674e+09</td>\n",
       "      <td>-3.86</td>\n",
       "      <td>83.03</td>\n",
       "      <td>6.052518</td>\n",
       "      <td>34.57</td>\n",
       "      <td>-57.0</td>\n",
       "      <td>7.0</td>\n",
       "      <td>29.0</td>\n",
       "    </tr>\n",
       "    <tr>\n",
       "      <th>2018-09-11 09:55:00</th>\n",
       "      <td>2.0</td>\n",
       "      <td>1.536674e+09</td>\n",
       "      <td>10.79</td>\n",
       "      <td>83.03</td>\n",
       "      <td>5.921862</td>\n",
       "      <td>34.59</td>\n",
       "      <td>-56.0</td>\n",
       "      <td>7.0</td>\n",
       "      <td>29.0</td>\n",
       "    </tr>\n",
       "    <tr>\n",
       "      <th>2018-09-11 09:55:00</th>\n",
       "      <td>2.0</td>\n",
       "      <td>1.536674e+09</td>\n",
       "      <td>4.79</td>\n",
       "      <td>83.03</td>\n",
       "      <td>5.875747</td>\n",
       "      <td>34.59</td>\n",
       "      <td>-56.0</td>\n",
       "      <td>7.0</td>\n",
       "      <td>30.0</td>\n",
       "    </tr>\n",
       "    <tr>\n",
       "      <th>2018-09-11 09:55:00</th>\n",
       "      <td>2.0</td>\n",
       "      <td>1.536674e+09</td>\n",
       "      <td>-10.17</td>\n",
       "      <td>83.03</td>\n",
       "      <td>5.985909</td>\n",
       "      <td>34.59</td>\n",
       "      <td>-54.0</td>\n",
       "      <td>-16.0</td>\n",
       "      <td>11.0</td>\n",
       "    </tr>\n",
       "    <tr>\n",
       "      <th>2018-09-11 09:55:00</th>\n",
       "      <td>2.0</td>\n",
       "      <td>1.536674e+09</td>\n",
       "      <td>-152.10</td>\n",
       "      <td>83.10</td>\n",
       "      <td>3.820292</td>\n",
       "      <td>34.59</td>\n",
       "      <td>-71.0</td>\n",
       "      <td>-35.0</td>\n",
       "      <td>1.0</td>\n",
       "    </tr>\n",
       "    <tr>\n",
       "      <th>2018-09-11 09:55:00</th>\n",
       "      <td>2.0</td>\n",
       "      <td>1.536674e+09</td>\n",
       "      <td>2.52</td>\n",
       "      <td>83.18</td>\n",
       "      <td>2.395465</td>\n",
       "      <td>34.59</td>\n",
       "      <td>-5.0</td>\n",
       "      <td>-69.0</td>\n",
       "      <td>11.0</td>\n",
       "    </tr>\n",
       "    <tr>\n",
       "      <th>2018-09-11 09:55:00</th>\n",
       "      <td>2.0</td>\n",
       "      <td>1.536674e+09</td>\n",
       "      <td>-55.77</td>\n",
       "      <td>83.25</td>\n",
       "      <td>3.607239</td>\n",
       "      <td>34.59</td>\n",
       "      <td>-26.0</td>\n",
       "      <td>-51.0</td>\n",
       "      <td>5.0</td>\n",
       "    </tr>\n",
       "    <tr>\n",
       "      <th>2018-09-11 09:55:00</th>\n",
       "      <td>2.0</td>\n",
       "      <td>1.536674e+09</td>\n",
       "      <td>-34.62</td>\n",
       "      <td>83.27</td>\n",
       "      <td>3.563483</td>\n",
       "      <td>34.59</td>\n",
       "      <td>-77.0</td>\n",
       "      <td>-11.0</td>\n",
       "      <td>-13.0</td>\n",
       "    </tr>\n",
       "    <tr>\n",
       "      <th>2018-09-11 09:55:00</th>\n",
       "      <td>2.0</td>\n",
       "      <td>1.536674e+09</td>\n",
       "      <td>128.30</td>\n",
       "      <td>83.32</td>\n",
       "      <td>4.446054</td>\n",
       "      <td>34.61</td>\n",
       "      <td>-63.0</td>\n",
       "      <td>-7.0</td>\n",
       "      <td>5.0</td>\n",
       "    </tr>\n",
       "    <tr>\n",
       "      <th>2018-09-11 09:55:00</th>\n",
       "      <td>2.0</td>\n",
       "      <td>1.536674e+09</td>\n",
       "      <td>22.65</td>\n",
       "      <td>83.37</td>\n",
       "      <td>3.290642</td>\n",
       "      <td>34.61</td>\n",
       "      <td>-66.0</td>\n",
       "      <td>-9.0</td>\n",
       "      <td>5.0</td>\n",
       "    </tr>\n",
       "    <tr>\n",
       "      <th>2018-09-11 09:55:00</th>\n",
       "      <td>2.0</td>\n",
       "      <td>1.536674e+09</td>\n",
       "      <td>75.43</td>\n",
       "      <td>83.45</td>\n",
       "      <td>3.607239</td>\n",
       "      <td>34.61</td>\n",
       "      <td>-39.0</td>\n",
       "      <td>-5.0</td>\n",
       "      <td>13.0</td>\n",
       "    </tr>\n",
       "    <tr>\n",
       "      <th>2018-09-11 09:55:00</th>\n",
       "      <td>2.0</td>\n",
       "      <td>1.536674e+09</td>\n",
       "      <td>107.20</td>\n",
       "      <td>83.53</td>\n",
       "      <td>5.099957</td>\n",
       "      <td>34.59</td>\n",
       "      <td>-43.0</td>\n",
       "      <td>55.0</td>\n",
       "      <td>25.0</td>\n",
       "    </tr>\n",
       "    <tr>\n",
       "      <th>2018-09-11 09:55:00</th>\n",
       "      <td>2.0</td>\n",
       "      <td>1.536674e+09</td>\n",
       "      <td>-79.40</td>\n",
       "      <td>83.62</td>\n",
       "      <td>6.097772</td>\n",
       "      <td>34.63</td>\n",
       "      <td>-22.0</td>\n",
       "      <td>47.0</td>\n",
       "      <td>24.0</td>\n",
       "    </tr>\n",
       "    <tr>\n",
       "      <th>2018-09-11 09:55:00</th>\n",
       "      <td>2.0</td>\n",
       "      <td>1.536674e+09</td>\n",
       "      <td>-45.00</td>\n",
       "      <td>83.73</td>\n",
       "      <td>4.787365</td>\n",
       "      <td>34.61</td>\n",
       "      <td>-38.0</td>\n",
       "      <td>48.0</td>\n",
       "      <td>17.0</td>\n",
       "    </tr>\n",
       "    <tr>\n",
       "      <th>2018-09-11 09:55:00</th>\n",
       "      <td>2.0</td>\n",
       "      <td>1.536674e+09</td>\n",
       "      <td>-92.71</td>\n",
       "      <td>83.85</td>\n",
       "      <td>4.827115</td>\n",
       "      <td>34.63</td>\n",
       "      <td>-51.0</td>\n",
       "      <td>36.0</td>\n",
       "      <td>12.0</td>\n",
       "    </tr>\n",
       "    <tr>\n",
       "      <th>2018-09-11 09:55:00</th>\n",
       "      <td>2.0</td>\n",
       "      <td>1.536674e+09</td>\n",
       "      <td>207.22</td>\n",
       "      <td>84.02</td>\n",
       "      <td>5.599108</td>\n",
       "      <td>34.66</td>\n",
       "      <td>-44.0</td>\n",
       "      <td>9.0</td>\n",
       "      <td>42.0</td>\n",
       "    </tr>\n",
       "    <tr>\n",
       "      <th>2018-09-11 09:55:00</th>\n",
       "      <td>2.0</td>\n",
       "      <td>1.536674e+09</td>\n",
       "      <td>52.38</td>\n",
       "      <td>84.08</td>\n",
       "      <td>7.488633</td>\n",
       "      <td>34.66</td>\n",
       "      <td>-51.0</td>\n",
       "      <td>10.0</td>\n",
       "      <td>37.0</td>\n",
       "    </tr>\n",
       "    <tr>\n",
       "      <th>2018-09-11 09:55:00</th>\n",
       "      <td>2.0</td>\n",
       "      <td>1.536674e+09</td>\n",
       "      <td>-281.76</td>\n",
       "      <td>84.20</td>\n",
       "      <td>5.785543</td>\n",
       "      <td>34.66</td>\n",
       "      <td>-42.0</td>\n",
       "      <td>15.0</td>\n",
       "      <td>44.0</td>\n",
       "    </tr>\n",
       "    <tr>\n",
       "      <th>2018-09-11 09:55:00</th>\n",
       "      <td>2.0</td>\n",
       "      <td>1.536674e+09</td>\n",
       "      <td>35.76</td>\n",
       "      <td>84.35</td>\n",
       "      <td>4.842070</td>\n",
       "      <td>34.66</td>\n",
       "      <td>-43.0</td>\n",
       "      <td>15.0</td>\n",
       "      <td>44.0</td>\n",
       "    </tr>\n",
       "    <tr>\n",
       "      <th>2018-09-11 09:55:00</th>\n",
       "      <td>2.0</td>\n",
       "      <td>1.536674e+09</td>\n",
       "      <td>-8.83</td>\n",
       "      <td>84.53</td>\n",
       "      <td>4.945826</td>\n",
       "      <td>34.68</td>\n",
       "      <td>-42.0</td>\n",
       "      <td>16.0</td>\n",
       "      <td>45.0</td>\n",
       "    </tr>\n",
       "    <tr>\n",
       "      <th>2018-09-11 09:55:00</th>\n",
       "      <td>2.0</td>\n",
       "      <td>1.536674e+09</td>\n",
       "      <td>0.69</td>\n",
       "      <td>84.75</td>\n",
       "      <td>4.948388</td>\n",
       "      <td>34.66</td>\n",
       "      <td>-42.0</td>\n",
       "      <td>15.0</td>\n",
       "      <td>45.0</td>\n",
       "    </tr>\n",
       "    <tr>\n",
       "      <th>2018-09-11 09:55:00</th>\n",
       "      <td>2.0</td>\n",
       "      <td>1.536674e+09</td>\n",
       "      <td>-5.22</td>\n",
       "      <td>84.93</td>\n",
       "      <td>4.976569</td>\n",
       "      <td>NaN</td>\n",
       "      <td>-42.0</td>\n",
       "      <td>16.0</td>\n",
       "      <td>46.0</td>\n",
       "    </tr>\n",
       "  </tbody>\n",
       "</table>\n",
       "<p>5203 rows × 9 columns</p>\n",
       "</div>"
      ],
      "text/plain": [
       "                     tags     unix time     BVP      HR       EDA   TEMP  \\\n",
       "real time                                                                  \n",
       "2018-09-11 08:28:00   0.0  1.536669e+09  -79.05   72.00  1.059777  33.31   \n",
       "2018-09-11 08:28:00   0.0  1.536669e+09  218.11   71.50  1.125105  33.31   \n",
       "2018-09-11 08:28:00   0.0  1.536669e+09  -20.02   65.00  1.501703  33.31   \n",
       "2018-09-11 08:28:00   0.0  1.536669e+09   76.70   92.25  1.204524  33.31   \n",
       "2018-09-11 08:28:00   0.0  1.536669e+09   71.85   87.60  1.184028  33.31   \n",
       "2018-09-11 08:28:00   0.0  1.536669e+09    9.11  102.00  1.171219  33.31   \n",
       "2018-09-11 08:28:00   0.0  1.536669e+09  -12.12  112.29  1.164814  33.34   \n",
       "2018-09-11 08:28:00   0.0  1.536669e+09    4.94  121.25  1.154567  33.34   \n",
       "2018-09-11 08:28:00   0.0  1.536669e+09   -3.46  130.00  1.136634  33.39   \n",
       "2018-09-11 08:28:00   0.0  1.536669e+09  -11.60  136.60  1.116138  33.43   \n",
       "2018-09-11 08:28:00   0.0  1.536669e+09  -12.60  142.09  1.118700  33.45   \n",
       "2018-09-11 08:28:00   0.0  1.536669e+09   -7.33  147.42  1.104610  33.47   \n",
       "2018-09-11 08:28:00   0.0  1.536669e+09  -18.01  151.85  1.096924  33.50   \n",
       "2018-09-11 08:28:00   0.0  1.536669e+09   41.91  155.71  1.077710  33.53   \n",
       "2018-09-11 08:28:00   0.0  1.536669e+09   12.26  158.87  0.994449  33.55   \n",
       "2018-09-11 08:28:00   0.0  1.536669e+09 -216.84  161.56  1.026373  33.61   \n",
       "2018-09-11 08:28:00   0.0  1.536669e+09   90.85  161.76  0.925178  33.61   \n",
       "2018-09-11 08:28:00   0.0  1.536669e+09  -36.59  162.22  0.980259  33.61   \n",
       "2018-09-11 08:28:00   0.0  1.536669e+09  -23.90  162.63  0.975135  33.61   \n",
       "2018-09-11 08:28:00   0.0  1.536669e+09 -139.83  163.05  1.098106  33.65   \n",
       "2018-09-11 08:29:00   0.0  1.536669e+09   21.34  163.57  0.578042  33.65   \n",
       "2018-09-11 08:29:00   0.0  1.536669e+09  -11.94  164.00  1.078892  33.65   \n",
       "2018-09-11 08:29:00   0.0  1.536669e+09  338.27  164.43  0.854726  33.63   \n",
       "2018-09-11 08:29:00   0.0  1.536669e+09   46.37  164.79  1.332519  33.66   \n",
       "2018-09-11 08:29:00   0.0  1.536669e+09  -77.69  165.12  1.080173  33.65   \n",
       "2018-09-11 08:29:00   0.0  1.536669e+09  -28.15  165.42  2.571491  33.49   \n",
       "2018-09-11 08:29:00   0.0  1.536669e+09   47.93  165.67  1.277737  33.33   \n",
       "2018-09-11 08:29:00   0.0  1.536669e+09   87.11  165.93  0.904683  33.39   \n",
       "2018-09-11 08:29:00   0.0  1.536669e+09  -75.03  166.17  1.185210  32.95   \n",
       "2018-09-11 08:29:00   0.0  1.536669e+09 -103.29  164.93  1.174963  33.73   \n",
       "...                   ...           ...     ...     ...       ...    ...   \n",
       "2018-09-11 09:54:00   2.0  1.536674e+09    0.71   83.17  5.796750  34.55   \n",
       "2018-09-11 09:54:00   2.0  1.536674e+09    0.61   83.17  5.713489  34.50   \n",
       "2018-09-11 09:54:00   2.0  1.536674e+09    1.25   83.15  5.659689  34.53   \n",
       "2018-09-11 09:54:00   2.0  1.536674e+09   -2.94   83.13  5.618699  34.55   \n",
       "2018-09-11 09:54:00   2.0  1.536674e+09   21.09   83.10  5.727579  34.55   \n",
       "2018-09-11 09:54:00   2.0  1.536674e+09   13.31   83.07  6.073013  34.55   \n",
       "2018-09-11 09:54:00   2.0  1.536674e+09   -0.61   83.05  6.303583  34.55   \n",
       "2018-09-11 09:55:00   2.0  1.536674e+09    3.93   83.05  6.306145  34.57   \n",
       "2018-09-11 09:55:00   2.0  1.536674e+09   -3.86   83.03  6.052518  34.57   \n",
       "2018-09-11 09:55:00   2.0  1.536674e+09   10.79   83.03  5.921862  34.59   \n",
       "2018-09-11 09:55:00   2.0  1.536674e+09    4.79   83.03  5.875747  34.59   \n",
       "2018-09-11 09:55:00   2.0  1.536674e+09  -10.17   83.03  5.985909  34.59   \n",
       "2018-09-11 09:55:00   2.0  1.536674e+09 -152.10   83.10  3.820292  34.59   \n",
       "2018-09-11 09:55:00   2.0  1.536674e+09    2.52   83.18  2.395465  34.59   \n",
       "2018-09-11 09:55:00   2.0  1.536674e+09  -55.77   83.25  3.607239  34.59   \n",
       "2018-09-11 09:55:00   2.0  1.536674e+09  -34.62   83.27  3.563483  34.59   \n",
       "2018-09-11 09:55:00   2.0  1.536674e+09  128.30   83.32  4.446054  34.61   \n",
       "2018-09-11 09:55:00   2.0  1.536674e+09   22.65   83.37  3.290642  34.61   \n",
       "2018-09-11 09:55:00   2.0  1.536674e+09   75.43   83.45  3.607239  34.61   \n",
       "2018-09-11 09:55:00   2.0  1.536674e+09  107.20   83.53  5.099957  34.59   \n",
       "2018-09-11 09:55:00   2.0  1.536674e+09  -79.40   83.62  6.097772  34.63   \n",
       "2018-09-11 09:55:00   2.0  1.536674e+09  -45.00   83.73  4.787365  34.61   \n",
       "2018-09-11 09:55:00   2.0  1.536674e+09  -92.71   83.85  4.827115  34.63   \n",
       "2018-09-11 09:55:00   2.0  1.536674e+09  207.22   84.02  5.599108  34.66   \n",
       "2018-09-11 09:55:00   2.0  1.536674e+09   52.38   84.08  7.488633  34.66   \n",
       "2018-09-11 09:55:00   2.0  1.536674e+09 -281.76   84.20  5.785543  34.66   \n",
       "2018-09-11 09:55:00   2.0  1.536674e+09   35.76   84.35  4.842070  34.66   \n",
       "2018-09-11 09:55:00   2.0  1.536674e+09   -8.83   84.53  4.945826  34.68   \n",
       "2018-09-11 09:55:00   2.0  1.536674e+09    0.69   84.75  4.948388  34.66   \n",
       "2018-09-11 09:55:00   2.0  1.536674e+09   -5.22   84.93  4.976569    NaN   \n",
       "\n",
       "                     ACC_x  ACC_y  ACC_z  \n",
       "real time                                 \n",
       "2018-09-11 08:28:00  -13.0   65.0  -24.0  \n",
       "2018-09-11 08:28:00  -35.0   -7.0   34.0  \n",
       "2018-09-11 08:28:00  -40.0  -12.0   34.0  \n",
       "2018-09-11 08:28:00  -31.0   13.0   46.0  \n",
       "2018-09-11 08:28:00  -38.0    8.0   51.0  \n",
       "2018-09-11 08:28:00  -39.0    8.0   49.0  \n",
       "2018-09-11 08:28:00  -36.0    5.0   50.0  \n",
       "2018-09-11 08:28:00  -38.0    8.0   50.0  \n",
       "2018-09-11 08:28:00  -38.0    9.0   50.0  \n",
       "2018-09-11 08:28:00  -37.0    7.0   50.0  \n",
       "2018-09-11 08:28:00  -37.0    6.0   51.0  \n",
       "2018-09-11 08:28:00  -36.0    6.0   51.0  \n",
       "2018-09-11 08:28:00  -37.0    9.0   53.0  \n",
       "2018-09-11 08:28:00  -35.0    7.0   52.0  \n",
       "2018-09-11 08:28:00  -36.0   32.0   38.0  \n",
       "2018-09-11 08:28:00  -36.0   13.0   80.0  \n",
       "2018-09-11 08:28:00  -62.0  -22.0  -14.0  \n",
       "2018-09-11 08:28:00  -27.0  -45.0  -46.0  \n",
       "2018-09-11 08:28:00  -28.0  -38.0  -37.0  \n",
       "2018-09-11 08:28:00  -41.0  -37.0  -35.0  \n",
       "2018-09-11 08:29:00  -59.0  -32.0  -14.0  \n",
       "2018-09-11 08:29:00  -56.0  -38.0  -37.0  \n",
       "2018-09-11 08:29:00  -35.0  -34.0  -45.0  \n",
       "2018-09-11 08:29:00  -43.0  -26.0  -28.0  \n",
       "2018-09-11 08:29:00  -48.0  -34.0  -37.0  \n",
       "2018-09-11 08:29:00  -59.0  -35.0  -22.0  \n",
       "2018-09-11 08:29:00  -25.0  -53.0  -24.0  \n",
       "2018-09-11 08:29:00  -37.0  -36.0   -2.0  \n",
       "2018-09-11 08:29:00  -41.0  -54.0   10.0  \n",
       "2018-09-11 08:29:00   -1.0   14.0   63.0  \n",
       "...                    ...    ...    ...  \n",
       "2018-09-11 09:54:00  -56.0    7.0   29.0  \n",
       "2018-09-11 09:54:00  -56.0    7.0   30.0  \n",
       "2018-09-11 09:54:00  -56.0    7.0   30.0  \n",
       "2018-09-11 09:54:00  -56.0    7.0   29.0  \n",
       "2018-09-11 09:54:00  -56.0    8.0   30.0  \n",
       "2018-09-11 09:54:00  -55.0    8.0   30.0  \n",
       "2018-09-11 09:54:00  -56.0    8.0   30.0  \n",
       "2018-09-11 09:55:00  -55.0    6.0   30.0  \n",
       "2018-09-11 09:55:00  -57.0    7.0   29.0  \n",
       "2018-09-11 09:55:00  -56.0    7.0   29.0  \n",
       "2018-09-11 09:55:00  -56.0    7.0   30.0  \n",
       "2018-09-11 09:55:00  -54.0  -16.0   11.0  \n",
       "2018-09-11 09:55:00  -71.0  -35.0    1.0  \n",
       "2018-09-11 09:55:00   -5.0  -69.0   11.0  \n",
       "2018-09-11 09:55:00  -26.0  -51.0    5.0  \n",
       "2018-09-11 09:55:00  -77.0  -11.0  -13.0  \n",
       "2018-09-11 09:55:00  -63.0   -7.0    5.0  \n",
       "2018-09-11 09:55:00  -66.0   -9.0    5.0  \n",
       "2018-09-11 09:55:00  -39.0   -5.0   13.0  \n",
       "2018-09-11 09:55:00  -43.0   55.0   25.0  \n",
       "2018-09-11 09:55:00  -22.0   47.0   24.0  \n",
       "2018-09-11 09:55:00  -38.0   48.0   17.0  \n",
       "2018-09-11 09:55:00  -51.0   36.0   12.0  \n",
       "2018-09-11 09:55:00  -44.0    9.0   42.0  \n",
       "2018-09-11 09:55:00  -51.0   10.0   37.0  \n",
       "2018-09-11 09:55:00  -42.0   15.0   44.0  \n",
       "2018-09-11 09:55:00  -43.0   15.0   44.0  \n",
       "2018-09-11 09:55:00  -42.0   16.0   45.0  \n",
       "2018-09-11 09:55:00  -42.0   15.0   45.0  \n",
       "2018-09-11 09:55:00  -42.0   16.0   46.0  \n",
       "\n",
       "[5203 rows x 9 columns]"
      ]
     },
     "execution_count": 17,
     "metadata": {},
     "output_type": "execute_result"
    }
   ],
   "source": [
    "# 16) Drop null values for both EDA and HR data?\n",
    "df_notEDA = df[df.EDA.notnull()]\n",
    "df_notEDAHR = df_notEDA[df_notEDA.HR.notnull()]\n",
    "df_notEDAHR.info()\n",
    "df_notEDAHR\n",
    "# Technically in this case, dropping all null values from HR alone should be sufficient, but just to be safer, I first\n",
    "# dropped EDA, followed by HR"
   ]
  },
  {
   "cell_type": "code",
   "execution_count": 18,
   "metadata": {
    "ExecuteTime": {
     "end_time": "2019-02-28T23:27:07.962485Z",
     "start_time": "2019-02-28T23:27:07.775805Z"
    }
   },
   "outputs": [
    {
     "data": {
      "text/plain": [
       "<matplotlib.axes._subplots.AxesSubplot at 0x1116e6ac8>"
      ]
     },
     "execution_count": 18,
     "metadata": {},
     "output_type": "execute_result"
    },
    {
     "data": {
      "image/png": "[encoded data removed]",
      "text/plain": [
       "<Figure size 432x288 with 2 Axes>"
      ]
     },
     "metadata": {},
     "output_type": "display_data"
    }
   ],
   "source": [
    "# 18) plot EDA and HR on two different graphs using subplots\n",
    "# hint: https://stackoverflow.com/questions/31726643/how-do-i-get-multiple-subplots-in-matplotlib\n",
    "fig, axes = plt.subplots (nrows=2)\n",
    "df_notEDAHR.HR.plot(ax=axes[0])\n",
    "df_notEDAHR.EDA.plot(ax=axes[1])"
   ]
  },
  {
   "cell_type": "code",
   "execution_count": 19,
   "metadata": {
    "ExecuteTime": {
     "end_time": "2019-02-28T23:27:08.804052Z",
     "start_time": "2019-02-28T23:27:08.695708Z"
    }
   },
   "outputs": [
    {
     "data": {
      "image/png": "[encoded data removed]",
      "text/plain": [
       "<Figure size 432x288 with 1 Axes>"
      ]
     },
     "metadata": {},
     "output_type": "display_data"
    }
   ],
   "source": [
    "# 19) plot EDA and HR on the same graph; what went wrong?\n",
    "\n",
    "# Not sure what is meant by same graph, so option 1 two separate line graphs:\n",
    "df_notEDAHR.HR.plot()\n",
    "df_notEDAHR.EDA.plot()\n",
    "plt.show()"
   ]
  },
  {
   "cell_type": "code",
   "execution_count": 20,
   "metadata": {
    "ExecuteTime": {
     "end_time": "2019-02-28T23:27:11.084588Z",
     "start_time": "2019-02-28T23:27:10.976852Z"
    }
   },
   "outputs": [
    {
     "data": {
      "image/png": "[encoded data removed]",
      "text/plain": [
       "<Figure size 432x288 with 1 Axes>"
      ]
     },
     "metadata": {},
     "output_type": "display_data"
    }
   ],
   "source": [
    "# Option 2 EDA vs HR:\n",
    "df_notEDAHR.plot(x=\"HR\", y=\"EDA\")\n",
    "plt.show()"
   ]
  },
  {
   "cell_type": "code",
   "execution_count": 32,
   "metadata": {
    "ExecuteTime": {
     "end_time": "2019-02-28T23:32:09.167712Z",
     "start_time": "2019-02-28T23:32:09.085776Z"
    }
   },
   "outputs": [
    {
     "name": "stderr",
     "output_type": "stream",
     "text": [
      "/Users/dianafeng/anaconda3/lib/python3.6/site-packages/ipykernel_launcher.py:3: SettingWithCopyWarning: \n",
      "A value is trying to be set on a copy of a slice from a DataFrame.\n",
      "Try using .loc[row_indexer,col_indexer] = value instead\n",
      "\n",
      "See the caveats in the documentation: http://pandas.pydata.org/pandas-docs/stable/indexing.html#indexing-view-versus-copy\n",
      "  This is separate from the ipykernel package so we can avoid doing imports until\n",
      "/Users/dianafeng/anaconda3/lib/python3.6/site-packages/ipykernel_launcher.py:4: SettingWithCopyWarning: \n",
      "A value is trying to be set on a copy of a slice from a DataFrame.\n",
      "Try using .loc[row_indexer,col_indexer] = value instead\n",
      "\n",
      "See the caveats in the documentation: http://pandas.pydata.org/pandas-docs/stable/indexing.html#indexing-view-versus-copy\n",
      "  after removing the cwd from sys.path.\n"
     ]
    }
   ],
   "source": [
    "# 20) normalize the HR and EDA columns using your favorite normalization strategy\n",
    "# Hint: https://stackoverflow.com/questions/12525722/normalize-data-in-pandas\n",
    "df_notEDAHR[\"HR_norm\"] = (df_notEDAHR.HR - df_notEDA.HR.mean()) / (df_notEDAHR.HR.max() - df_notEDAHR.HR.min())\n",
    "df_notEDAHR[\"EDA_norm\"] = (df_notEDAHR.EDA - df_notEDA.EDA.mean()) / (df_notEDAHR.EDA.max() - df_notEDAHR.EDA.min())\n",
    "# Since the assigning copy is very much intentional, the warnings are ignored"
   ]
  },
  {
   "cell_type": "code",
   "execution_count": 30,
   "metadata": {
    "ExecuteTime": {
     "end_time": "2019-02-28T23:30:01.068938Z",
     "start_time": "2019-02-28T23:30:00.934288Z"
    }
   },
   "outputs": [
    {
     "data": {
      "text/plain": [
       "<matplotlib.axes._subplots.AxesSubplot at 0x126d84160>"
      ]
     },
     "execution_count": 30,
     "metadata": {},
     "output_type": "execute_result"
    },
    {
     "data": {
      "image/png": "[encoded data removed]",
      "text/plain": [
       "<Figure size 432x288 with 1 Axes>"
      ]
     },
     "metadata": {},
     "output_type": "display_data"
    }
   ],
   "source": [
    "# 21) plot EDA and HR on the same graph; does the result look better?\n",
    "df_notEDAHR.HR_norm.plot()\n",
    "df_notEDAHR.EDA_norm.plot()"
   ]
  },
  {
   "cell_type": "code",
   "execution_count": 31,
   "metadata": {
    "ExecuteTime": {
     "end_time": "2019-02-28T23:30:05.890263Z",
     "start_time": "2019-02-28T23:30:05.887998Z"
    }
   },
   "outputs": [],
   "source": [
    "# 22) what can you observe from the graph? Does there seem to be an agreement between HR and EDA?\n",
    "# While part of the trend of the EDA data follows HR (~11:08:40 to ~11:09:10), they don't agree all the time"
   ]
  },
  {
   "cell_type": "markdown",
   "metadata": {},
   "source": [
    "**IN-CLASS DISCUSSION**: why do we normalize values? When do we want to normalize them?"
   ]
  },
  {
   "cell_type": "markdown",
   "metadata": {},
   "source": [
    "# Time series"
   ]
  },
  {
   "cell_type": "markdown",
   "metadata": {},
   "source": [
    "Concepts:\n",
    "* indexing, slicing, datetimeIndex\n",
    "* resampling, rolling mean\n",
    "* method chaining and filtering\n",
    "* plotting time series"
   ]
  },
  {
   "cell_type": "markdown",
   "metadata": {},
   "source": [
    "In this section, we are going to work with some built-in function of pandas to work with time series. More specifically, we are going to downsample our data and use a rolling window to generate additional graphs."
   ]
  },
  {
   "cell_type": "code",
   "execution_count": 44,
   "metadata": {
    "ExecuteTime": {
     "end_time": "2019-02-28T23:38:36.114162Z",
     "start_time": "2019-02-28T23:38:35.802420Z"
    }
   },
   "outputs": [
    {
     "name": "stdout",
     "output_type": "stream",
     "text": [
      "<class 'pandas.core.frame.DataFrame'>\n",
      "DatetimeIndex: 20849 entries, 2018-11-09 08:28:00 to 2018-11-09 09:55:00\n",
      "Data columns (total 9 columns):\n",
      "tags         20849 non-null float64\n",
      "unix time    20849 non-null float64\n",
      "BVP          20844 non-null float64\n",
      "HR           5203 non-null float64\n",
      "EDA          20849 non-null float64\n",
      "TEMP         20848 non-null float64\n",
      "ACC_x        20849 non-null float64\n",
      "ACC_y        20849 non-null float64\n",
      "ACC_z        20849 non-null float64\n",
      "dtypes: float64(9)\n",
      "memory usage: 1.6 MB\n"
     ]
    }
   ],
   "source": [
    "# let's reimport our data to make sure it's clean\n",
    "df = pd.read_csv('Bertrand-physiodata.csv')\n",
    "filtered_df = df[df['EDA'].notnull() & df['EDA'].notnull()].copy()\n",
    "\n",
    "# make sure that you are converting the real time column into a datetime\n",
    "filtered_df['real time'] = pd.to_datetime(filtered_df['real time'], format='%d/%m/%y %H:%M')\n",
    "filtered_df = filtered_df.set_index('real time')\n",
    "\n",
    "filtered_df.head()\n",
    "filtered_df.info()"
   ]
  },
  {
   "cell_type": "markdown",
   "metadata": {},
   "source": [
    "### Down sampling"
   ]
  },
  {
   "cell_type": "code",
   "execution_count": 45,
   "metadata": {
    "ExecuteTime": {
     "end_time": "2019-02-28T23:38:39.682081Z",
     "start_time": "2019-02-28T23:38:39.550811Z"
    }
   },
   "outputs": [
    {
     "data": {
      "text/plain": [
       "<matplotlib.axes._subplots.AxesSubplot at 0x127801128>"
      ]
     },
     "execution_count": 45,
     "metadata": {},
     "output_type": "execute_result"
    },
    {
     "data": {
      "image/png": "[encoded data removed]",
      "text/plain": [
       "<Figure size 432x288 with 1 Axes>"
      ]
     },
     "metadata": {},
     "output_type": "display_data"
    }
   ],
   "source": [
    "# 23) Use the instruction from datacamp to resample your data in 60 seconds windows and plot the result\n",
    "# Hint: https://campus.datacamp.com/courses/pandas-foundations/time-series-in-pandas?ex=7\n",
    "filtered_resample = filtered_df.resample('60s').mean()\n",
    "filtered_resample.plot(x=None, y= [\"HR\",\"EDA\"])"
   ]
  },
  {
   "cell_type": "code",
   "execution_count": 46,
   "metadata": {
    "ExecuteTime": {
     "end_time": "2019-02-28T23:38:42.280575Z",
     "start_time": "2019-02-28T23:38:42.107629Z"
    }
   },
   "outputs": [
    {
     "data": {
      "text/plain": [
       "<matplotlib.axes._subplots.AxesSubplot at 0x12726c9b0>"
      ]
     },
     "execution_count": 46,
     "metadata": {},
     "output_type": "execute_result"
    },
    {
     "data": {
      "image/png": "[encoded data removed]",
      "text/plain": [
       "<Figure size 432x288 with 1 Axes>"
      ]
     },
     "metadata": {},
     "output_type": "display_data"
    }
   ],
   "source": [
    "# 24) do the same thing, but this time using the rolling() function in a 60sec window\n",
    "filtered_rolling = filtered_df.rolling('60s').mean() # or use 'T'\n",
    "filtered_rolling.plot(x=None, y= [\"HR\",\"EDA\"])"
   ]
  },
  {
   "cell_type": "code",
   "execution_count": null,
   "metadata": {},
   "outputs": [],
   "source": [
    "# 25) What is the difference between rolling() and resample()? Why do the graphs look different?\n",
    "# the result of rolling is more jittery than resample, because here rolling always takes the mean of the previous 60s\n",
    "# of data, so any changes during that peirod is reflected in the rolled value, whereas in resample, the points are\n",
    "# simply averaged over the range of 60s, so the trend if inherently more smooth"
   ]
  },
  {
   "cell_type": "markdown",
   "metadata": {},
   "source": [
    "## Correlations"
   ]
  },
  {
   "cell_type": "markdown",
   "metadata": {},
   "source": [
    "In this section we're going to keep exploring the relationship between heart rate data and electrodermal activity. We are going to do this visually (with a scatter plot first) and then using a statistical test (Pearson's correlation). "
   ]
  },
  {
   "cell_type": "code",
   "execution_count": 43,
   "metadata": {
    "ExecuteTime": {
     "end_time": "2019-02-28T23:37:58.364381Z",
     "start_time": "2019-02-28T23:37:58.243148Z"
    }
   },
   "outputs": [
    {
     "data": {
      "text/plain": [
       "<matplotlib.axes._subplots.AxesSubplot at 0x127762438>"
      ]
     },
     "execution_count": 43,
     "metadata": {},
     "output_type": "execute_result"
    },
    {
     "data": {
      "image/png": "[encoded data removed]",
      "text/plain": [
       "<Figure size 432x288 with 1 Axes>"
      ]
     },
     "metadata": {},
     "output_type": "display_data"
    }
   ],
   "source": [
    "# 26) create a scatter plot between HR and EDA:\n",
    "filtered_df.plot(kind='scatter', x='HR', y='EDA')"
   ]
  },
  {
   "cell_type": "code",
   "execution_count": 58,
   "metadata": {
    "ExecuteTime": {
     "end_time": "2019-02-28T23:45:31.548111Z",
     "start_time": "2019-02-28T23:45:31.542717Z"
    }
   },
   "outputs": [
    {
     "data": {
      "text/plain": [
       "-0.13861928732609413"
      ]
     },
     "execution_count": 58,
     "metadata": {},
     "output_type": "execute_result"
    }
   ],
   "source": [
    "# 27) compute pearson's correlation between the HR and EDA data\n",
    "filtered_df.HR.corr(filtered_df.EDA)"
   ]
  },
  {
   "cell_type": "code",
   "execution_count": 59,
   "metadata": {
    "ExecuteTime": {
     "end_time": "2019-02-28T23:46:28.254305Z",
     "start_time": "2019-02-28T23:46:28.251525Z"
    }
   },
   "outputs": [],
   "source": [
    "# 29) what can you conclude? Is there a linear relationship between HR and EDA data in this dataset?\n",
    "# This is too weak a correlation to infer any kind of strong relationship between HR and EDA"
   ]
  },
  {
   "cell_type": "code",
   "execution_count": null,
   "metadata": {},
   "outputs": [],
   "source": []
  }
 ],
 "metadata": {
  "kernelspec": {
   "display_name": "Python 3",
   "language": "python",
   "name": "python3"
  },
  "language_info": {
   "codemirror_mode": {
    "name": "ipython",
    "version": 3
   },
   "file_extension": ".py",
   "mimetype": "text/x-python",
   "name": "python",
   "nbconvert_exporter": "python",
   "pygments_lexer": "ipython3",
   "version": "3.6.5"
  },
  "toc": {
   "base_numbering": 1,
   "nav_menu": {},
   "number_sections": true,
   "sideBar": true,
   "skip_h1_title": false,
   "title_cell": "Table of Contents",
   "title_sidebar": "Contents",
   "toc_cell": false,
   "toc_position": {},
   "toc_section_display": true,
   "toc_window_display": false
  },
  "varInspector": {
   "cols": {
    "lenName": 16,
    "lenType": 16,
    "lenVar": 40
   },
   "kernels_config": {
    "python": {
     "delete_cmd_postfix": "",
     "delete_cmd_prefix": "del ",
     "library": "var_list.py",
     "varRefreshCmd": "print(var_dic_list())"
    },
    "r": {
     "delete_cmd_postfix": ") ",
     "delete_cmd_prefix": "rm(",
     "library": "var_list.r",
     "varRefreshCmd": "cat(var_dic_list()) "
    }
   },
   "types_to_exclude": [
    "module",
    "function",
    "builtin_function_or_method",
    "instance",
    "_Feature"
   ],
   "window_display": false
  }
 },
 "nbformat": 4,
 "nbformat_minor": 2
}
